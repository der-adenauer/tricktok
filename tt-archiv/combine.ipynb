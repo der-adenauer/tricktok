{
 "cells": [
  {
   "cell_type": "code",
   "execution_count": 1,
   "id": "d1de7549-702a-4d69-b1cd-03efecafe0c4",
   "metadata": {},
   "outputs": [
    {
     "name": "stdout",
     "output_type": "stream",
     "text": [
      "Vor dem Merge (media_info):\n",
      "                    id   url\n",
      "0  7453041971486133536  None\n",
      "1  7446314527685201185  None\n",
      "2  7430740655854390560  None\n",
      "Daten aus media_metadata:\n",
      "                    id                                                url\n",
      "0  7453041971486133536  https://www.tiktok.com/@gereonbollmann/video/7...\n",
      "1  7446314527685201185  https://www.tiktok.com/@gereonbollmann/video/7...\n",
      "2  7430740655854390560  https://www.tiktok.com/@gereonbollmann/video/7...\n",
      "Nach dem Merge:\n",
      "                    id                                                url\n",
      "0  7453041971486133536  https://www.tiktok.com/@gereonbollmann/video/7...\n",
      "1  7446314527685201185  https://www.tiktok.com/@gereonbollmann/video/7...\n",
      "2  7430740655854390560  https://www.tiktok.com/@gereonbollmann/video/7...\n",
      "3  7429638543347076385  https://www.tiktok.com/@gereonbollmann/video/7...\n",
      "4  7424819005254405408  https://www.tiktok.com/@gereonbollmann/video/7...\n",
      "Fertig! 'media_info' wurde mit den URL-Werten aktualisiert.\n"
     ]
    }
   ],
   "source": [
    "import pandas as pd\n",
    "import sqlite3\n",
    "\n",
    "# ---------------------------------------------------------\n",
    "# 1) DB1 öffnen und media_info laden\n",
    "# ---------------------------------------------------------\n",
    "conn_new = sqlite3.connect('archiv/filtered_tiktok_media.db')\n",
    "df_media = pd.read_sql_query(\"SELECT * FROM media_info\", conn_new)\n",
    "\n",
    "print(\"Vor dem Merge (media_info):\")\n",
    "print(df_media[['id','url']].head(3))  # Beispiel-Ausgabe\n",
    "\n",
    "# ---------------------------------------------------------\n",
    "# 2) DB2 öffnen und media_metadata laden\n",
    "#    Hier: id, url auslesen\n",
    "# ---------------------------------------------------------\n",
    "conn_meta = sqlite3.connect('archiv/tiktok_media_metadata.db')\n",
    "df_meta = pd.read_sql_query(\"SELECT id, url FROM media_metadata\", conn_meta)\n",
    "conn_meta.close()\n",
    "\n",
    "print(\"Daten aus media_metadata:\")\n",
    "print(df_meta[['id','url']].head(3))\n",
    "\n",
    "# ---------------------------------------------------------\n",
    "# 3) Per Merge abgleichen (left-join auf df_media)\n",
    "#    suffixes: damit nicht beide \"url\"-Spalten kollidieren\n",
    "# ---------------------------------------------------------\n",
    "df_merged = pd.merge(\n",
    "    df_media,    # linker DF (alle Zeilen behalten)\n",
    "    df_meta,     # rechter DF\n",
    "    on='id',\n",
    "    how='left',\n",
    "    suffixes=('', '_meta')  # dann wird df_meta.url => 'url_meta'\n",
    ")\n",
    "\n",
    "# ---------------------------------------------------------\n",
    "# 4) Die url-Spalte aus df_meta in df_media übertragen\n",
    "#    (falls in df_meta.url Werte vorhanden sind)\n",
    "# ---------------------------------------------------------\n",
    "df_merged['url'] = df_merged['url_meta']\n",
    "\n",
    "# Nicht mehr benötigte Spalte entfernen\n",
    "df_merged.drop(columns=['url_meta'], inplace=True)\n",
    "\n",
    "# Ausgabe zum Testen\n",
    "print(\"Nach dem Merge:\")\n",
    "print(df_merged[['id','url']].head(5))\n",
    "\n",
    "# ---------------------------------------------------------\n",
    "# 5) Ergebnis zurück in 'filtered_tiktok_media.db' speichern\n",
    "#    ACHTUNG: 'replace' überschreibt die Tabelle komplett.\n",
    "# ---------------------------------------------------------\n",
    "df_merged.to_sql(\"media_info\", conn_new, if_exists=\"replace\", index=False)\n",
    "\n",
    "conn_new.close()\n",
    "\n",
    "print(\"Fertig! 'media_info' wurde mit den URL-Werten aktualisiert.\")\n"
   ]
  },
  {
   "cell_type": "code",
   "execution_count": null,
   "id": "086812a5-06df-4afe-ae41-ac442bb9f5a4",
   "metadata": {},
   "outputs": [],
   "source": []
  }
 ],
 "metadata": {
  "kernelspec": {
   "display_name": "Python (tricktok_env)",
   "language": "python",
   "name": "tricktok_env"
  },
  "language_info": {
   "codemirror_mode": {
    "name": "ipython",
    "version": 3
   },
   "file_extension": ".py",
   "mimetype": "text/x-python",
   "name": "python",
   "nbconvert_exporter": "python",
   "pygments_lexer": "ipython3",
   "version": "3.9.21"
  }
 },
 "nbformat": 4,
 "nbformat_minor": 5
}

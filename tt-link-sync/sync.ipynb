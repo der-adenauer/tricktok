{
 "cells": [
  {
   "cell_type": "code",
   "execution_count": null,
   "id": "b6d9c66e-ecf6-428f-8910-9c5bd04fc79a",
   "metadata": {},
   "outputs": [],
   "source": []
  },
  {
   "cell_type": "code",
   "execution_count": 1,
   "id": "b794baa7-2969-49be-8482-cc6f2bde531a",
   "metadata": {},
   "outputs": [],
   "source": [
    "import sqlite3\n",
    "\n",
    "def export_kanal_to_txt():\n",
    "    # Verbindung zur Datenbank herstellen\n",
    "    conn = sqlite3.connect(\"datenbank.db\")\n",
    "    cursor = conn.cursor()\n",
    "    \n",
    "    # Alle Werte aus der Spalte 'kanal' abrufen\n",
    "    cursor.execute(\"SELECT kanal FROM links\")\n",
    "    kanals = cursor.fetchall()\n",
    "\n",
    "    # Verbindung zur Datenbank schließen\n",
    "    conn.close()\n",
    "\n",
    "    # Inhalte in eine Textdatei schreiben\n",
    "    with open(\"links_single.txt\", \"w\") as f:\n",
    "        # Iteriere über die Ergebnisse und schreibe jede Zeile in die Datei\n",
    "        for kanal in kanals:\n",
    "            f.write(kanal[0] + \"\\n\")\n",
    "\n",
    "# Funktion aufrufen\n",
    "export_kanal_to_txt()"
   ]
  },
  {
   "cell_type": "code",
   "execution_count": 2,
   "id": "8272abec-cabe-4e32-98a0-f220b9a6ee65",
   "metadata": {},
   "outputs": [],
   "source": [
    "def prepend_to_lines_in_file():\n",
    "    # Definiere den Präfix-String\n",
    "    prefix = \"https://www.tiktok.com/@\"\n",
    "    \n",
    "    # Lese die vorhandenen Links aus der Datei\n",
    "    with open(\"links_single.txt\", \"r\") as f:\n",
    "        lines = f.readlines()\n",
    "\n",
    "    # Erstelle eine neue Liste mit dem Präfix hinzugefügt\n",
    "    modified_lines = [prefix + line.strip() for line in lines]\n",
    "\n",
    "    # Schreibe die modifizierten Zeilen in eine neue Datei\n",
    "    with open(\"links.txt\", \"w\") as f:\n",
    "        for line in modified_lines:\n",
    "            f.write(line + \"\\n\")\n",
    "\n",
    "# Funktion aufrufen\n",
    "prepend_to_lines_in_file()"
   ]
  },
  {
   "cell_type": "code",
   "execution_count": 3,
   "id": "59bdf053-c2f6-42b6-9850-2e01c9863926",
   "metadata": {},
   "outputs": [],
   "source": [
    "def append_file_content():\n",
    "    # Pfade zu beiden Dateien definieren\n",
    "    source_file_path = \"../tt-link-sync/links.txt\"\n",
    "    destination_file_path = \"links.txt\"\n",
    "    \n",
    "    # Lese die Inhalte der Quell-Datei\n",
    "    with open(source_file_path, \"r\") as source_file:\n",
    "        lines_to_append = source_file.readlines()\n",
    "    \n",
    "    # Hänge die Inhalte an die Ziel-Datei an\n",
    "    with open(destination_file_path, \"a\") as destination_file:\n",
    "        for line in lines_to_append:\n",
    "            destination_file.write(line)\n",
    "\n",
    "# Funktion aufrufen\n",
    "append_file_content()"
   ]
  },
  {
   "cell_type": "code",
   "execution_count": 4,
   "id": "8729dab5-e02a-4383-8c10-69552b310feb",
   "metadata": {},
   "outputs": [
    {
     "name": "stdout",
     "output_type": "stream",
     "text": [
      "Inhalt von /home/echo/tricktok/tt-link-sync/links.txt wurde erfolgreich an /home/echo/tricktok/tt-link-beobachter/links.txt angehängt.\n"
     ]
    }
   ],
   "source": [
    "import os\n",
    "\n",
    "def append_file_content():\n",
    "    # Absoluter Pfad zu den Dateien\n",
    "    source_file = \"/home/echo/tricktok/tt-link-sync/links.txt\"\n",
    "    destination_file = \"/home/echo/tricktok/tt-link-beobachter/links.txt\"\n",
    "    \n",
    "    # Sicherstellen, dass beide Dateien existieren\n",
    "    if not os.path.exists(source_file):\n",
    "        print(f\"Die Quelldatei {source_file} existiert nicht.\")\n",
    "        return\n",
    "    if not os.path.exists(destination_file):\n",
    "        print(f\"Die Zieldatei {destination_file} existiert nicht.\")\n",
    "        return\n",
    "    \n",
    "    # Dateiinhalt anhängen\n",
    "    with open(source_file, \"r\") as src, open(destination_file, \"a\") as dest:\n",
    "        lines = src.readlines()\n",
    "        dest.writelines(lines)\n",
    "    \n",
    "    print(f\"Inhalt von {source_file} wurde erfolgreich an {destination_file} angehängt.\")\n",
    "\n",
    "# Skript ausführen\n",
    "append_file_content()\n"
   ]
  },
  {
   "cell_type": "code",
   "execution_count": null,
   "id": "f9c6ffc1-8137-4700-b53f-6bfc7cc727dd",
   "metadata": {},
   "outputs": [],
   "source": []
  }
 ],
 "metadata": {
  "kernelspec": {
   "display_name": "Python 3 (ipykernel)",
   "language": "python",
   "name": "python3"
  },
  "language_info": {
   "codemirror_mode": {
    "name": "ipython",
    "version": 3
   },
   "file_extension": ".py",
   "mimetype": "text/x-python",
   "name": "python",
   "nbconvert_exporter": "python",
   "pygments_lexer": "ipython3",
   "version": "3.11.2"
  }
 },
 "nbformat": 4,
 "nbformat_minor": 5
}
